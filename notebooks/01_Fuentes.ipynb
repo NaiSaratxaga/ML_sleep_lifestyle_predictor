{
 "cells": [
  {
   "cell_type": "markdown",
   "id": "796f5f1e",
   "metadata": {},
   "source": [
    "### Adquisición de datos en Kaggle"
   ]
  },
  {
   "cell_type": "markdown",
   "id": "02215d55",
   "metadata": {},
   "source": [
    "- Dataset sobre Sleep_disorder:\n",
    "- https://www.kaggle.com/datasets/ziya07/sleep-disorder-diagnostic-dataset"
   ]
  },
  {
   "cell_type": "markdown",
   "id": "b2f39e7f",
   "metadata": {},
   "source": [
    "#### Descripción de tipo de columnas"
   ]
  },
  {
   "cell_type": "markdown",
   "id": "d5e9ae49",
   "metadata": {},
   "source": [
    "- Person ID: Identificador único para cada individuo en el conjunto de datos.\n",
    "- Gender: Género del individuo, generalmente categorizado como 'Male' (Masculino) o 'Female' (Femenino).\n",
    "- Age: Edad del individuo en años.\n",
    "- Occupation: Profesión u ocupación del individuo, por ejemplo, 'Doctor', 'Engineer', 'Teacher', etc.\n",
    "- Sleep Duration: Duración promedio del sueño por noche, medida en horas.\n",
    "- Quality of Sleep: Calidad del sueño, evaluada en una escala del 1 al 10, donde valores más altos indican mejor calidad.\n",
    "- Physical Activity Level: Nivel de actividad física diaria, medido en minutos.\n",
    "- Stress Level: Nivel de estrés percibido, en una escala del 1 al 10, donde valores más altos indican mayor estrés.\n",
    "- BMI Category: Categoría del Índice de Masa Corporal (IMC), como 'Normal', 'Overweight' (Sobrepeso), 'Obese' (Obeso), etc.\n",
    "- Blood Pressure: Presión arterial del individuo, generalmente expresada como 'Systolic/Diastolic' (Sistólica/Diastólica).\n",
    "- Heart Rate: Frecuencia cardíaca en reposo, medida en latidos por minuto.\n",
    "- Daily Steps: Número promedio de pasos dados por día.\n",
    "- Sleep Disorder: Tipo de trastorno del sueño diagnosticado, como 'Insomnia', 'Sleep Apnea', 'Narcolepsy', o 'None' (Ninguno)."
   ]
  },
  {
   "cell_type": "markdown",
   "id": "91f68733",
   "metadata": {},
   "source": [
    "---"
   ]
  },
  {
   "cell_type": "markdown",
   "id": "d7d88d57",
   "metadata": {},
   "source": [
    "### Adquisición de datos en Kaggle"
   ]
  },
  {
   "cell_type": "markdown",
   "id": "91cac156",
   "metadata": {},
   "source": [
    "- Sleep_health_and_lifestyle_dataset\n",
    "- https://www.kaggle.com/datasets/uom190346a/sleep-health-and-lifestyle-dataset/data"
   ]
  },
  {
   "cell_type": "markdown",
   "id": "4a3a7479",
   "metadata": {},
   "source": [
    "#### Descripción de tipo de columnas"
   ]
  },
  {
   "cell_type": "markdown",
   "id": "41daee34",
   "metadata": {},
   "source": [
    "#### DataSet sobre sleep_disorder\n",
    "- **Patient_ID**\tIdentificador único de cada persona.\n",
    "- **Age**\tEdad del paciente (en años).\n",
    "- **Gender**\tGénero de la persona (Male o Female).\n",
    "- **Sleep_Disorder_Type** Diagnóstico del trastorno del sueño del paciente (categórico, con varias categorías como Apnea del Sueño, Insomnio, Narcolepsia, etc.).\n",
    "- **AHI_Score** Puntaje del índice Apnea-Hipopnea del paciente (numérico).\n",
    "- **SaO2_Level** Nivel de saturación de oxígeno en sangre del paciente (numérico).\n",
    "- **OCR_Extracted_Text** Texto extraído mediante OCR de los documentos médicos escaneados (texto). **Necesita NPL para su análisis (Procesamiento de lenguaje natural)**\n",
    "- **Diagnosis_Confirmed** Columna binaria que indica si el diagnóstico de trastorno del sueño está confirmado (1 para confirmado, 0 para no confirmado)."
   ]
  }
 ],
 "metadata": {
  "language_info": {
   "name": "python"
  }
 },
 "nbformat": 4,
 "nbformat_minor": 5
}
