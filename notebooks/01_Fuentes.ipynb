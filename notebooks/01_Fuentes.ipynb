{
 "cells": [
  {
   "cell_type": "markdown",
   "id": "796f5f1e",
   "metadata": {},
   "source": [
    "### Adquisición de datos y unión de las diferentes fuentes"
   ]
  },
  {
   "cell_type": "markdown",
   "id": "02215d55",
   "metadata": {},
   "source": [
    "- Dataset sobre Sleep_disorder:\n",
    "- https://www.kaggle.com/datasets/ziya07/sleep-disorder-diagnostic-dataset"
   ]
  }
 ],
 "metadata": {
  "language_info": {
   "name": "python"
  }
 },
 "nbformat": 4,
 "nbformat_minor": 5
}
