{
 "cells": [
  {
   "cell_type": "code",
   "execution_count": 7,
   "id": "70ee512c",
   "metadata": {},
   "outputs": [],
   "source": [
    "#  Configuración y carga de librerías\n",
    "\n",
    "import pandas as pd\n",
    "import matplotlib.pyplot as plt\n",
    "import seaborn as sns\n",
    "\n",
    "from sklearn.model_selection import train_test_split, GridSearchCV\n",
    "from sklearn.ensemble import RandomForestClassifier\n",
    "from sklearn.preprocessing import StandardScaler\n",
    "from sklearn.pipeline import Pipeline\n",
    "from sklearn.metrics import classification_report, confusion_matrix"
   ]
  },
  {
   "cell_type": "code",
   "execution_count": 8,
   "id": "eb410fcb",
   "metadata": {},
   "outputs": [],
   "source": [
    "# 2. Carga de datos\n",
    "# ==============================\n",
    "df = pd.read_csv('../data/combined_sleep_dataset.csv')"
   ]
  },
  {
   "cell_type": "code",
   "execution_count": 9,
   "id": "c7bc484a",
   "metadata": {},
   "outputs": [],
   "source": [
    "# 3. Selección de features y target\n",
    "\n",
    "# Variables fuertes identificadas en el EDA\n",
    "features = [\n",
    "    'Physical Activity Level',\n",
    "    'Daily Steps',\n",
    "    'Blood Pressure',\n",
    "    'Heart Rate',\n",
    "    'Age',\n",
    "    'Sleep Duration',\n",
    "    'Quality of Sleep',\n",
    "    'Stress Level',\n",
    "    'BMI Category'\n",
    "]\n",
    "\n",
    "X = df[features]\n",
    "y = df['Sleep_disorder']"
   ]
  },
  {
   "cell_type": "code",
   "execution_count": 10,
   "id": "6fd8b9eb",
   "metadata": {},
   "outputs": [],
   "source": [
    "# 4. Train/Test split\n",
    "\n",
    "X_train, X_test, y_train, y_test = train_test_split(\n",
    "    X, y,\n",
    "    test_size=0.2,\n",
    "    random_state=42,\n",
    "    stratify=y\n",
    ")"
   ]
  },
  {
   "cell_type": "code",
   "execution_count": null,
   "id": "057de832",
   "metadata": {},
   "outputs": [
    {
     "name": "stdout",
     "output_type": "stream",
     "text": [
      "Fitting 5 folds for each of 12 candidates, totalling 60 fits\n"
     ]
    },
    {
     "name": "stdout",
     "output_type": "stream",
     "text": [
      "Mejores parámetros: {'clf__max_depth': None, 'clf__min_samples_leaf': 1, 'clf__n_estimators': 200}\n"
     ]
    }
   ],
   "source": [
    "# 5. Pipeline de preprocesamiento + modelo\n",
    "\n",
    "pipe = Pipeline([\n",
    "    ('scaler', StandardScaler()),                     # Escalado de variables\n",
    "    ('clf', RandomForestClassifier(random_state=42))   # Modelo\n",
    "])\n",
    "\n",
    "\n",
    "# 6. Búsqueda de hiperparámetros (opcional)\n",
    "\n",
    "param_grid = {\n",
    "    'clf__n_estimators': [100, 200],\n",
    "    'clf__max_depth': [None, 5, 10],\n",
    "    'clf__min_samples_leaf': [1, 3]\n",
    "}\n",
    "\n",
    "grid = GridSearchCV(\n",
    "    pipe,\n",
    "    param_grid,\n",
    "    cv=5,\n",
    "    scoring='f1_weighted',\n",
    "    n_jobs=-1,\n",
    "    verbose=1\n",
    ")\n",
    "grid.fit(X_train, y_train)\n",
    "\n",
    "print(\"Mejores parámetros:\", grid.best_params_)\n",
    "\n",
    "\n"
   ]
  },
  {
   "cell_type": "code",
   "execution_count": 12,
   "id": "f9c69b89",
   "metadata": {},
   "outputs": [
    {
     "name": "stdout",
     "output_type": "stream",
     "text": [
      "\n",
      "=== Classification Report ===\n",
      "              precision    recall  f1-score   support\n",
      "\n",
      "           0      0.573     0.724     0.640       152\n",
      "           1      0.182     0.108     0.136        37\n",
      "           2      0.000     0.000     0.000        23\n",
      "           3      0.492     0.586     0.535        99\n",
      "           4      0.100     0.047     0.063        43\n",
      "           5      0.910     0.929     0.919        98\n",
      "\n",
      "    accuracy                          0.586       452\n",
      "   macro avg      0.376     0.399     0.382       452\n",
      "weighted avg      0.522     0.586     0.549       452\n",
      "\n"
     ]
    },
    {
     "name": "stderr",
     "output_type": "stream",
     "text": [
      "c:\\Users\\nsara\\AppData\\Local\\Programs\\Python\\Python311\\Lib\\site-packages\\sklearn\\metrics\\_classification.py:1565: UndefinedMetricWarning: Precision is ill-defined and being set to 0.0 in labels with no predicted samples. Use `zero_division` parameter to control this behavior.\n",
      "  _warn_prf(average, modifier, f\"{metric.capitalize()} is\", len(result))\n",
      "c:\\Users\\nsara\\AppData\\Local\\Programs\\Python\\Python311\\Lib\\site-packages\\sklearn\\metrics\\_classification.py:1565: UndefinedMetricWarning: Precision is ill-defined and being set to 0.0 in labels with no predicted samples. Use `zero_division` parameter to control this behavior.\n",
      "  _warn_prf(average, modifier, f\"{metric.capitalize()} is\", len(result))\n",
      "c:\\Users\\nsara\\AppData\\Local\\Programs\\Python\\Python311\\Lib\\site-packages\\sklearn\\metrics\\_classification.py:1565: UndefinedMetricWarning: Precision is ill-defined and being set to 0.0 in labels with no predicted samples. Use `zero_division` parameter to control this behavior.\n",
      "  _warn_prf(average, modifier, f\"{metric.capitalize()} is\", len(result))\n"
     ]
    },
    {
     "data": {
      "image/png": "[encoded data removed]",
      "text/plain": [
       "<Figure size 600x500 with 2 Axes>"
      ]
     },
     "metadata": {},
     "output_type": "display_data"
    }
   ],
   "source": [
    "\n",
    "# 7. Evaluación en set de test\n",
    "\n",
    "best_model = grid.best_estimator_\n",
    "y_pred = best_model.predict(X_test)\n",
    "\n",
    "print(\"\\n=== Classification Report ===\")\n",
    "print(classification_report(y_test, y_pred, digits=3))\n",
    "\n",
    "# Matriz de confusión\n",
    "cm = confusion_matrix(y_test, y_pred)\n",
    "plt.figure(figsize=(6,5))\n",
    "sns.heatmap(cm, annot=True, fmt='d', cmap='Blues',\n",
    "            xticklabels=best_model.classes_,\n",
    "            yticklabels=best_model.classes_)\n",
    "plt.xlabel('Predicción')\n",
    "plt.ylabel('Verdadero')\n",
    "plt.title('Matriz de Confusión - Random Forest')\n",
    "plt.tight_layout()\n",
    "plt.show()"
   ]
  }
 ],
 "metadata": {
  "kernelspec": {
   "display_name": "Python 3",
   "language": "python",
   "name": "python3"
  },
  "language_info": {
   "codemirror_mode": {
    "name": "ipython",
    "version": 3
   },
   "file_extension": ".py",
   "mimetype": "text/x-python",
   "name": "python",
   "nbconvert_exporter": "python",
   "pygments_lexer": "ipython3",
   "version": "3.11.9"
  }
 },
 "nbformat": 4,
 "nbformat_minor": 5
}
