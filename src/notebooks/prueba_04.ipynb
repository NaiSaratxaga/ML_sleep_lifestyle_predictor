{
 "cells": [
  {
   "cell_type": "code",
   "execution_count": 39,
   "id": "70ee512c",
   "metadata": {},
   "outputs": [],
   "source": [
    "#  Configuración y carga de librerías\n",
    "\n",
    "import pandas as pd\n",
    "import matplotlib.pyplot as plt\n",
    "import seaborn as sns\n",
    "\n",
    "from sklearn.model_selection import train_test_split, GridSearchCV\n",
    "from sklearn.ensemble import RandomForestClassifier\n",
    "from sklearn.preprocessing import StandardScaler\n",
    "from sklearn.pipeline import Pipeline\n",
    "from sklearn.metrics import classification_report, confusion_matrix\n",
    "from xgboost import XGBClassifier\n",
    "\n",
    "import warnings\n",
    "warnings.filterwarnings(\"ignore\")  # Oculta todos los warnings"
   ]
  },
  {
   "cell_type": "code",
   "execution_count": 40,
   "id": "eb410fcb",
   "metadata": {},
   "outputs": [],
   "source": [
    "# Carga de datos\n",
    "df = pd.read_csv('../data/combined_sleep_dataset.csv')"
   ]
  },
  {
   "cell_type": "code",
   "execution_count": 41,
   "id": "c7bc484a",
   "metadata": {},
   "outputs": [],
   "source": [
    "# Selección de features y target\n",
    "\n",
    "# Variables fuertes identificadas en el EDA\n",
    "features = [\n",
    "    'Physical Activity Level',\n",
    "    'Daily Steps',\n",
    "    'Blood Pressure',\n",
    "    'Heart Rate',\n",
    "    'Age',\n",
    "    'Sleep Duration',\n",
    "    'Quality of Sleep',\n",
    "    'Stress Level',\n",
    "    'BMI Category'\n",
    "]\n",
    "\n",
    "X = df[features]\n",
    "y = df['Sleep_disorder']"
   ]
  },
  {
   "cell_type": "code",
   "execution_count": 42,
   "id": "6fd8b9eb",
   "metadata": {},
   "outputs": [],
   "source": [
    "# Train/Test split\n",
    "\n",
    "X_train, X_test, y_train, y_test = train_test_split(\n",
    "    X, y,\n",
    "    test_size=0.2,\n",
    "    random_state=42,\n",
    "    stratify=y\n",
    ")"
   ]
  },
  {
   "cell_type": "code",
   "execution_count": null,
   "id": "057de832",
   "metadata": {},
   "outputs": [
    {
     "name": "stdout",
     "output_type": "stream",
     "text": [
      "Fitting 5 folds for each of 12 candidates, totalling 60 fits\n",
      "Mejores parámetros: {'clf__max_depth': None, 'clf__min_samples_leaf': 1, 'clf__n_estimators': 200}\n"
     ]
    }
   ],
   "source": [
    "# Pipeline de preprocesamiento + modelo\n",
    "\n",
    "pipe = Pipeline([\n",
    "    ('scaler', StandardScaler()),                     # Escalado de variables\n",
    "    ('clf', RandomForestClassifier(random_state=42))   # Modelo\n",
    "])\n",
    "\n",
    "\n",
    "# Búsqueda de hiperparámetros (opcional)\n",
    "\n",
    "param_grid = {\n",
    "    'clf__n_estimators': [100, 200],\n",
    "    'clf__max_depth': [None, 5, 10],\n",
    "    'clf__min_samples_leaf': [1, 3]\n",
    "}\n",
    "\n",
    "grid = GridSearchCV(\n",
    "    pipe,\n",
    "    param_grid,\n",
    "    cv=5,\n",
    "    scoring='f1_weighted',\n",
    "    n_jobs=-1,\n",
    "    verbose=1\n",
    ")\n",
    "grid.fit(X_train, y_train)\n",
    "\n",
    "print(\"Mejores parámetros:\", grid.best_params_)\n",
    "\n",
    "\n"
   ]
  },
  {
   "cell_type": "code",
   "execution_count": 44,
   "id": "f9c69b89",
   "metadata": {},
   "outputs": [
    {
     "name": "stdout",
     "output_type": "stream",
     "text": [
      "\n",
      "=== Classification Report ===\n",
      "              precision    recall  f1-score   support\n",
      "\n",
      "           0      0.573     0.724     0.640       152\n",
      "           1      0.182     0.108     0.136        37\n",
      "           2      0.000     0.000     0.000        23\n",
      "           3      0.492     0.586     0.535        99\n",
      "           4      0.100     0.047     0.063        43\n",
      "           5      0.910     0.929     0.919        98\n",
      "\n",
      "    accuracy                          0.586       452\n",
      "   macro avg      0.376     0.399     0.382       452\n",
      "weighted avg      0.522     0.586     0.549       452\n",
      "\n"
     ]
    }
   ],
   "source": [
    "\n",
    "# Evaluación en set de test\n",
    "\n",
    "best_model = grid.best_estimator_\n",
    "y_pred = best_model.predict(X_test)\n",
    "\n",
    "print(\"\\n=== Classification Report ===\")\n",
    "print(classification_report(y_test, y_pred, digits=3))\n",
    "\n"
   ]
  },
  {
   "cell_type": "markdown",
   "id": "68064e83",
   "metadata": {},
   "source": [
    "- **Precision**: La clase **5** tiene la mejor precisión (0.910), pero **1, 2 y 4** son muy bajas.\n",
    "- **Recall**: La clase **0** se identifica bien (0.724), pero la clase **2** no se detecta en absoluto (0.000).\n",
    "- **F1-score**: Buen rendimiento en la clase **5** (0.919), pero **1, 2 y 4** muestran problemas.\n",
    "\n",
    "- **Accuracy**: El modelo acierta un **58.6%** de los casos.\n",
    "- **Macro avg**: Rendimiento promedio bajo (**0.382 en F1-score**).\n",
    "- **Weighted avg**: Algo más representativo (**0.549 en F1-score**).\n",
    "- El modelo funciona bien en la clase **5**, aceptable en **0 y 3**, pero falla en **1, 2 y 4**. \n",
    "\n"
   ]
  },
  {
   "cell_type": "code",
   "execution_count": 45,
   "id": "8c52eb2e",
   "metadata": {},
   "outputs": [
    {
     "data": {
      "image/png": "[encoded data removed]",
      "text/plain": [
       "<Figure size 600x500 with 2 Axes>"
      ]
     },
     "metadata": {},
     "output_type": "display_data"
    }
   ],
   "source": [
    "# Matriz de confusión\n",
    "cm = confusion_matrix(y_test, y_pred)\n",
    "plt.figure(figsize=(6,5))\n",
    "sns.heatmap(cm, annot=True, fmt='d', cmap='Blues',\n",
    "            xticklabels=best_model.classes_,\n",
    "            yticklabels=best_model.classes_)\n",
    "plt.xlabel('Predicción')\n",
    "plt.ylabel('Verdadero')\n",
    "plt.title('Matriz de Confusión - Random Forest')\n",
    "plt.tight_layout()\n",
    "plt.show()"
   ]
  },
  {
   "cell_type": "markdown",
   "id": "d211cf93",
   "metadata": {},
   "source": [
    "#  Matriz de Confusión (Random Forest)\n",
    "\n",
    "- **Ejes**  \n",
    "  - **Filas (verdadero)**: clase real de cada paciente (0–5).  \n",
    "  - **Columnas (predicción)**: clase predicha por el modelo.\n",
    "\n",
    "- **Clases (código → trastorno)**  \n",
    "  0 = Insomnia  \n",
    "  1 = Narcolepsy  \n",
    "  2 = No Disorder  \n",
    "  3 = Obstructive Sleep Apnea  \n",
    "  4 = Restless Leg Syndrome  \n",
    "  5 = Sleep Apnea\n",
    "\n",
    "- El modelo **acierta muy bien** en **Insomnia (0)** y **Sleep Apnea (5)**.  \n",
    "- **Obstructive Sleep Apnea (3)** se detecta moderadamente, pero hay mucha confusión con Insomnia.  \n",
    "- Las clases **intermedias** (1, 2, 4) tienen un rendimiento **muy pobre**:  \n",
    "  - **No Disorder (2)** no se reconoce en absoluto.  \n",
    "  - **Narcolepsy (1)** y **RLS (4)** apenas se identifican.  \n",
    "- Para mejorar, convendría:  \n",
    "  1. **Reequilibrar** clases minoritarias (oversampling, penalización de clase).  \n",
    "  2. **Añadir o crear features** que diferencien mejor las clases raras.  \n",
    "  3. **Probar otros modelos** o ajustes de hiperparámetros más agresivos.  \n"
   ]
  },
  {
   "cell_type": "markdown",
   "id": "302efe94",
   "metadata": {},
   "source": [
    "---\n"
   ]
  },
  {
   "cell_type": "markdown",
   "id": "65352e7f",
   "metadata": {},
   "source": [
    "#### Clasificación con XGBoost"
   ]
  },
  {
   "cell_type": "code",
   "execution_count": 46,
   "id": "f9254484",
   "metadata": {},
   "outputs": [],
   "source": [
    "# Selección de features y target\n",
    "features = [\n",
    "    'Physical Activity Level',\n",
    "    'Daily Steps',\n",
    "    'Blood Pressure',\n",
    "    'Heart Rate',\n",
    "    'Age',\n",
    "    'Sleep Duration',\n",
    "    'Quality of Sleep',\n",
    "    'Stress Level',\n",
    "    'BMI Category'\n",
    "]\n",
    "X = df[features]\n",
    "y = df['Sleep_disorder']"
   ]
  },
  {
   "cell_type": "code",
   "execution_count": 47,
   "id": "1ce5b5e8",
   "metadata": {},
   "outputs": [],
   "source": [
    "# Train/Test split (estratificado)\n",
    "X_train, X_test, y_train, y_test = train_test_split(\n",
    "    X, y,\n",
    "    test_size=0.2,\n",
    "    random_state=42,\n",
    "    stratify=y\n",
    ")"
   ]
  },
  {
   "cell_type": "code",
   "execution_count": 48,
   "id": "e2d92bfe",
   "metadata": {},
   "outputs": [
    {
     "name": "stdout",
     "output_type": "stream",
     "text": [
      "Fitting 5 folds for each of 36 candidates, totalling 180 fits\n",
      "Mejores parámetros XGBoost: {'learning_rate': 0.2, 'max_depth': 3, 'n_estimators': 100, 'subsample': 0.8}\n",
      "\n",
      "=== Classification Report (XGBoost) ===\n",
      "              precision    recall  f1-score   support\n",
      "\n",
      "           0      0.628     0.678     0.652       152\n",
      "           1      0.182     0.054     0.083        37\n",
      "           2      0.000     0.000     0.000        23\n",
      "           3      0.489     0.697     0.575        99\n",
      "           4      0.194     0.163     0.177        43\n",
      "           5      0.910     0.929     0.919        98\n",
      "\n",
      "    accuracy                          0.602       452\n",
      "   macro avg      0.401     0.420     0.401       452\n",
      "weighted avg      0.549     0.602     0.568       452\n",
      "\n"
     ]
    }
   ],
   "source": [
    "#  Definición del modelo XGBoost\n",
    "xgb = XGBClassifier(\n",
    "    objective='multi:softmax',    # clasificación multiclase\n",
    "    num_class=len(y.unique()),    # número de clases\n",
    "    eval_metric='mlogloss',       # métrica interna\n",
    "    use_label_encoder=False,\n",
    "    random_state=42\n",
    ")\n",
    "\n",
    "# Grid Search de hiperparámetros\n",
    "param_grid = {\n",
    "    'n_estimators': [100, 200],\n",
    "    'max_depth': [3, 5, 7],\n",
    "    'learning_rate': [0.01, 0.1, 0.2],\n",
    "    'subsample': [0.8, 1.0]\n",
    "}\n",
    "\n",
    "grid = GridSearchCV(\n",
    "    estimator=xgb,\n",
    "    param_grid=param_grid,\n",
    "    cv=5,\n",
    "    scoring='f1_weighted',\n",
    "    n_jobs=-1,\n",
    "    verbose=1\n",
    ")\n",
    "grid.fit(X_train, y_train)\n",
    "\n",
    "print(\"Mejores parámetros XGBoost:\", grid.best_params_)\n",
    "\n",
    "# Evaluación en conjunto de test\n",
    "best_xgb = grid.best_estimator_\n",
    "y_pred = best_xgb.predict(X_test)\n",
    "\n",
    "print(\"\\n=== Classification Report (XGBoost) ===\")\n",
    "print(classification_report(y_test, y_pred, digits=3))\n",
    "\n",
    "\n"
   ]
  },
  {
   "cell_type": "markdown",
   "id": "0bf2129d",
   "metadata": {},
   "source": [
    "- **Fitting**: 5 folds, 36 candidatos, 180 combinaciones probadas.\n",
    "- **Mejores parámetros**:  \n",
    "  - `learning_rate`: 0.2  \n",
    "  - `max_depth`: 3  \n",
    "  - `n_estimators`: 100  \n",
    "  - `subsample`: 0.8  \n",
    "\n",
    "#### Evaluación Global\n",
    "- **Accuracy**: **60.2%**\n",
    "- **Macro avg**:  \n",
    "  - Precision: **0.401**  \n",
    "  - Recall: **0.420**  \n",
    "  - F1-score: **0.401**\n",
    "- **Weighted avg**:  \n",
    "  - Precision: **0.549**  \n",
    "  - Recall: **0.602**  \n",
    "  - F1-score: **0.568**\n",
    "\n",
    "#### Conclusión\n",
    "- Rendimiento sólido en la clase **5**.\n",
    "- **Mejoras necesarias** para las clases **1, 2 y 4**, que tienen bajo recall y precisión.\n",
    "- Posibles estrategias: ajustar hiperparámetros, mejorar balance de clases, probar otros enfoques.\n",
    "\n"
   ]
  },
  {
   "cell_type": "code",
   "execution_count": 49,
   "id": "96d4c0b4",
   "metadata": {},
   "outputs": [
    {
     "data": {
      "image/png": "[encoded data removed]",
      "text/plain": [
       "<Figure size 600x500 with 2 Axes>"
      ]
     },
     "metadata": {},
     "output_type": "display_data"
    }
   ],
   "source": [
    "# Matriz de confusión\n",
    "cm = confusion_matrix(y_test, y_pred)\n",
    "plt.figure(figsize=(6,5))\n",
    "sns.heatmap(\n",
    "    cm,\n",
    "    annot=True,\n",
    "    fmt='d',\n",
    "    cmap='Blues',\n",
    "    xticklabels=best_xgb.classes_,\n",
    "    yticklabels=best_xgb.classes_\n",
    ")\n",
    "plt.xlabel('Predicción')\n",
    "plt.ylabel('Verdadero')\n",
    "plt.title('Matriz de Confusión – XGBoost')\n",
    "plt.tight_layout()\n",
    "plt.show()"
   ]
  },
  {
   "cell_type": "markdown",
   "id": "a052f6b7",
   "metadata": {},
   "source": [
    "#### Resumen de la Matriz de Confusión (XGBoost)\n",
    "\n",
    "- **Sleep Apnea (5)** y **Obstructive Sleep Apnea (3)** son los más confiables, con OSA mejorado a 69 aciertos.  \n",
    "- **Insomnia (0)** sigue siendo razonablemente bien clasificada (103 TP).  \n",
    "- **No Disorder (2)** y **Narcolepsy (1)** no se reconocen correctamente; permanecen ausentes o casi ausentes en sus propios bins.  \n",
    "- **RLS (4)** mejora algo (7 TP vs 2 con RF) pero sigue siendo débil.  \n",
    "- Para afinar el modelo convendría:\n",
    "  1. Reequilibrar clases muy minoritarias.  \n",
    "  2. Incorporar nuevas features o generar interacciones que distingan mejor las clases con bajo rendimiento.  \n",
    "  3. Explorar ajustes adicionales de hiperparámetros o técnicas de ensamblado.  \n"
   ]
  }
 ],
 "metadata": {
  "kernelspec": {
   "display_name": "Python 3",
   "language": "python",
   "name": "python3"
  },
  "language_info": {
   "codemirror_mode": {
    "name": "ipython",
    "version": 3
   },
   "file_extension": ".py",
   "mimetype": "text/x-python",
   "name": "python",
   "nbconvert_exporter": "python",
   "pygments_lexer": "ipython3",
   "version": "3.11.9"
  }
 },
 "nbformat": 4,
 "nbformat_minor": 5
}
