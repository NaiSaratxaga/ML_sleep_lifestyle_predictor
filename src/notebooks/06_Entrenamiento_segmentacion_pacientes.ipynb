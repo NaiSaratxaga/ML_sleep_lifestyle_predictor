{
 "cells": [
  {
   "cell_type": "markdown",
   "id": "111a0666",
   "metadata": {},
   "source": [
    "- Segmentación de pacientes (Clustering)\n",
    "    - Objetivo: descubrir subgrupos naturales (sin target predefinido).\n",
    "\n",
    "- Algoritmos: K-Means, DBSCAN, HDBSCAN, clustering jerárquico.\n",
    "- Variables a usar: todas las numéricas (actividad, sueño, estrés, biomarcadores).\n",
    "- Aplicación: identificar perfiles de riesgo o patrones de comportamiento."
   ]
  },
  {
   "cell_type": "markdown",
   "id": "888ddf51",
   "metadata": {},
   "source": []
  }
 ],
 "metadata": {
  "language_info": {
   "name": "python"
  }
 },
 "nbformat": 4,
 "nbformat_minor": 5
}
