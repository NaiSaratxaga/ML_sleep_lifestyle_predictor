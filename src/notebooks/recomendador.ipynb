{
 "cells": [
  {
   "cell_type": "markdown",
   "id": "aa281bb7",
   "metadata": {},
   "source": [
    "### 2. Recomendaciones personalizadas"
   ]
  },
  {
   "cell_type": "code",
   "execution_count": null,
   "id": "c7acb0dd",
   "metadata": {},
   "outputs": [],
   "source": [
    "\n",
    "def recomendar(diagnostico):\n",
    "    recomendaciones = {\n",
    "        \"Insomnio\": \"Evita pantallas antes de dormir y considera terapia cognitivo-conductual.\",\n",
    "        \"Apnea del sueño\": \"Consulta a un especialista en sueño. Puede necesitar CPAP.\",\n",
    "        \"Narcolepsia\": \"Consulta un neurólogo. Sigue horarios estrictos de sueño.\",\n",
    "        \"Normal\": \"Mantén una rutina de sueño saludable.\"\n",
    "    }\n",
    "    return recomendaciones.get(diagnostico, \"Consulta a un especialista.\")\n",
    "\n",
    "df['Recomendación'] = df['Sleep_Disorder_Type'].apply(recomendar)"
   ]
  },
  {
   "cell_type": "code",
   "execution_count": null,
   "id": "478c9fe6",
   "metadata": {},
   "outputs": [],
   "source": [
    "import joblib\n",
    "\n",
    "# Guardar el modelo entrenado `clf` como `sleep_model.pkl`\n",
    "joblib.dump(clf, 'sleep_model.pkl')"
   ]
  }
 ],
 "metadata": {
  "language_info": {
   "name": "python"
  }
 },
 "nbformat": 4,
 "nbformat_minor": 5
}
