{
 "cells": [
  {
   "cell_type": "markdown",
   "id": "0ec63acb",
   "metadata": {},
   "source": [
    "- Predicción de calidad de sueño\n",
    "    - Target: Quality of Sleep (regresión)\n",
    "\n",
    "- Modelos: regresión lineal regularizada (Ridge/Lasso), Random Forest Regressor, GBM.\n",
    "- Features clave: Sleep Duration, Stress Level, Physical Activity Level, AHI_Score, Age."
   ]
  }
 ],
 "metadata": {
  "language_info": {
   "name": "python"
  }
 },
 "nbformat": 4,
 "nbformat_minor": 5
}
